{
 "cells": [
  {
   "cell_type": "code",
   "execution_count": null,
   "id": "5ad6a812-b6c8-4938-b24a-9455f0f6da37",
   "metadata": {},
   "outputs": [],
   "source": [
    "import pandas as pd\n",
    "import numpy as np\n",
    "\n",
    "# Define file paths\n",
    "articles_path = '../data/articles.csv'\n",
    "customers_path = '../data/customers.csv'\n",
    "# Load into DataFrames\n",
    "articles_df = pd.read_csv(articles_path)\n",
    "customers_df = pd.read_csv(customers_path)\n",
    "\n",
    "\n",
    "\n",
    "\n",
    "print(\"--- First 5 rows of articles_df ---\")\n",
    "display(articles_df.head())\n",
    "print(\"\\n--- Info for articles_df ---\")\n",
    "articles_df.info()\n",
    "\n",
    "\n",
    "print(\"--- Statistical summary for customers_df ---\")\n",
    "display(customers_df.describe())\n",
    "# Check for missing values\n",
    "print(\"\\n--- Missing values in customers_df ---\")\n",
    "print(customers_df.isnull().sum())\n",
    "\n",
    "\n",
    "\n",
    "ages = customers_df['age'].values\n",
    "average_age = np.nanmean(ages)\n",
    "print(f\"\\nThe average customer age is: {average_age:.2f}\")\n",
    "\n",
    "\n",
    "\n",
    "\n",
    "\n",
    "\n",
    "\n",
    "\n"
   ]
  }
 ],
 "metadata": {
  "kernelspec": {
   "display_name": "Python 3 (ipykernel)",
   "language": "python",
   "name": "python3"
  },
  "language_info": {
   "codemirror_mode": {
    "name": "ipython",
    "version": 3
   },
   "file_extension": ".py",
   "mimetype": "text/x-python",
   "name": "python",
   "nbconvert_exporter": "python",
   "pygments_lexer": "ipython3",
   "version": "3.11.9"
  }
 },
 "nbformat": 4,
 "nbformat_minor": 5
}
