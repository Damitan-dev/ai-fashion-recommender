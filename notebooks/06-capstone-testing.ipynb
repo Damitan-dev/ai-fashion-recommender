{
 "cells": [
  {
   "cell_type": "code",
   "execution_count": 5,
   "id": "f28cd560",
   "metadata": {},
   "outputs": [
    {
     "name": "stderr",
     "output_type": "stream",
     "text": [
      "WARNING:absl:Compiled the loaded model, but the compiled metrics have yet to be built. `model.compile_metrics` will be empty until you train or evaluate the model.\n"
     ]
    },
    {
     "name": "stdout",
     "output_type": "stream",
     "text": [
      "Initializing the Hybrid Recommender...\n",
      "Loading artifacts...\n"
     ]
    },
    {
     "name": "stderr",
     "output_type": "stream",
     "text": [
      "WARNING:absl:No training configuration found in the save file, so the model was *not* compiled. Compile it manually.\n"
     ]
    },
    {
     "name": "stdout",
     "output_type": "stream",
     "text": [
      "All artifacts loaded successfully.\n"
     ]
    }
   ],
   "source": [
    "# Add project root to path to allow imports from src\n",
    "import sys\n",
    "sys.path.append('..')\n",
    "\n",
    "from src.recommender import HybridRecommender\n",
    "\n",
    "# This should run without any errors if your loading logic is correct\n",
    "recommender_engine = HybridRecommender()\n"
   ]
  }
 ],
 "metadata": {
  "kernelspec": {
   "display_name": "venv",
   "language": "python",
   "name": "python3"
  },
  "language_info": {
   "codemirror_mode": {
    "name": "ipython",
    "version": 3
   },
   "file_extension": ".py",
   "mimetype": "text/x-python",
   "name": "python",
   "nbconvert_exporter": "python",
   "pygments_lexer": "ipython3",
   "version": "3.11.9"
  }
 },
 "nbformat": 4,
 "nbformat_minor": 5
}
