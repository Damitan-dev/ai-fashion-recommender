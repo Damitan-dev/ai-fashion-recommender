{
 "cells": [
  {
   "cell_type": "code",
   "execution_count": null,
   "id": "f28cd560",
   "metadata": {},
   "outputs": [
    {
     "name": "stdout",
     "output_type": "stream",
     "text": [
      "Initializing the Hybrid Recommender...\n",
      "Loading artifacts...\n"
     ]
    },
    {
     "name": "stderr",
     "output_type": "stream",
     "text": [
      "WARNING:absl:Compiled the loaded model, but the compiled metrics have yet to be built. `model.compile_metrics` will be empty until you train or evaluate the model.\n",
      "WARNING:absl:No training configuration found in the save file, so the model was *not* compiled. Compile it manually.\n"
     ]
    },
    {
     "name": "stdout",
     "output_type": "stream",
     "text": [
      "All artifacts loaded successfully.\n",
      "Generating recommendations for user 000058a12d5b43e67d225668fa1f8d618c13dc232df0cad8ffe7ad4a1091e318 and article 108775015...\n",
      "Visual recs: [123173001 218354001 341917002 241602023 295873004 381038018 359909015\n",
      " 235596002 213691001 359504016]\n",
      "Content recs: [108775051 108775044 241436001 241412038 241412034 240670060 240670058\n",
      " 240561001 238197034 238197030]\n",
      "\u001b[1m780/780\u001b[0m \u001b[32m━━━━━━━━━━━━━━━━━━━━\u001b[0m\u001b[37m\u001b[0m \u001b[1m3s\u001b[0m 4ms/step\n",
      "Collaborative recs: [545449023 690545001 667999003 658502001 657217001 501616007 567617001\n",
      " 645595001 344956011 576693003]\n",
      "\u001b[1m780/780\u001b[0m \u001b[32m━━━━━━━━━━━━━━━━━━━━\u001b[0m\u001b[37m\u001b[0m \u001b[1m3s\u001b[0m 4ms/step\n",
      "\\n--- Final Hybrid Recommendations ---\n",
      "[np.int64(123173001), np.int64(218354001), np.int64(341917002), np.int64(241602023), np.int64(295873004), np.int64(381038018), np.int64(359909015), np.int64(235596002), np.int64(213691001), np.int64(359504016), np.int64(545449023), np.int64(690545001)]\n",
      "[123173001, 218354001, 341917002, 241602023, 295873004, 381038018, 359909015, 235596002, 213691001, 359504016, 545449023, 690545001]\n",
      "['123173001', '218354001', '341917002', '241602023', '295873004', '381038018', '359909015', '235596002', '213691001', '359504016', '545449023', '690545001']\n"
     ]
    }
   ],
   "source": [
    "# Add project root to path to allow imports from src\n",
    "import sys\n",
    "sys.path.append('..')\n",
    "\n",
    "from src.recommender import HybridRecommender\n",
    "\n",
    "# This should run without any errors if your loading logic is correct\n",
    "recommender_engine = HybridRecommender() \n",
    "\n",
    "  # Prints the full first article_id\n",
    "\n",
    "\n",
    "\n",
    "test_user ='000058a12d5b43e67d225668fa1f8d618c13dc232df0cad8ffe7ad4a1091e318'\n",
    "test_article = '108775015'\n",
    "\n",
    "final_recommendations = recommender_engine.get_recommendations(test_user, test_article)\n",
    "\n",
    "print(\"\\\\n--- Final Hybrid Recommendations ---\")\n",
    "print(final_recommendations)\n",
    "\n",
    "# Convert to normal Python ints\n",
    "final_recs_clean = [int(a) for a in final_recommendations]\n",
    "print(final_recs_clean)\n",
    "\n",
    "# Or convert to strings\n",
    "final_recs_str = [str(a) for a in final_recommendations]\n",
    "print(final_recs_str)\n",
    "\n"
   ]
  },
  {
   "cell_type": "code",
   "execution_count": null,
   "id": "4a5f2f00",
   "metadata": {},
   "outputs": [
    {
     "name": "stdout",
     "output_type": "stream",
     "text": [
      "user_encoder.pkl exists: True\n",
      "article_encoder.pkl exists: True\n",
      "tfidf_vectorizer.pkl exists: True\n",
      "tfidf_matrix.pkl exists: True\n",
      "cosine_sim_matrix.pkl exists: True\n",
      "cnn_extractor.h5 exists: True\n",
      "image_embeddings.npy exists: True\n",
      "image_paths.pkl exists: True\n",
      "visual_sim_matrix.pkl exists: True\n",
      "user_purchases.pkl exists: True\n"
     ]
    }
   ],
   "source": [
    "# import os\n",
    "\n",
    "# artifacts_path = '../artifacts/'\n",
    "\n",
    "# files = [\n",
    "#     'user_encoder.pkl',\n",
    "#     'article_encoder.pkl',\n",
    "#     'tfidf_vectorizer.pkl',\n",
    "#     'tfidf_matrix.pkl',\n",
    "#     'cosine_sim_matrix.pkl',\n",
    "#     'cnn_extractor.h5',\n",
    "#     'image_embeddings.npy',\n",
    "#     'image_paths.pkl',\n",
    "#     'visual_sim_matrix.pkl',\n",
    "#     'user_purchases.pkl'\n",
    "# ]\n",
    "\n",
    "# for f in files:\n",
    "#     path = os.path.join(artifacts_path, f)\n",
    "#     print(f\"{f} exists: {os.path.exists(path)}\")\n"
   ]
  },
  {
   "cell_type": "code",
   "execution_count": null,
   "id": "6ee90614",
   "metadata": {},
   "outputs": [
    {
     "name": "stdout",
     "output_type": "stream",
     "text": [
      "User encoder sample: ['0000423b00ade91418cceaf3b26c6af3dd342b51fd051eec9c12fb36984420fa', '000058a12d5b43e67d225668fa1f8d618c13dc232df0cad8ffe7ad4a1091e318', '00007d2de826758b65a93dd24ce629ed66842531df6699338c5570910a014cc2', '0000f1c71aafe5963c3d195cf273f7bfd50bbf17761c9199e53dbb81641becd7', '00015c1a121e08bbd2552c15fbbb6e6b19d3bf8f7b6a3d60c6d7be26f06264d6']\n",
      "Article encoder sample: [np.int64(108775015), np.int64(108775044), np.int64(108775051), np.int64(110065001), np.int64(110065002)]\n",
      "TF-IDF matrix shape: (5000, 1381)\n",
      "Cosine sim matrix shape: (5000, 5000)\n",
      "Image embeddings shape: (1188, 1280)\n",
      "Visual sim matrix shape: (1188, 1188)\n",
      "Sample user purchases (0): [17888, 21927, 22732, 18028, 9682]\n"
     ]
    }
   ],
   "source": [
    "# import joblib\n",
    "# import numpy as np\n",
    "\n",
    "# # Load encoders\n",
    "# user_encoder = joblib.load(os.path.join(artifacts_path, 'user_encoder.pkl'))\n",
    "# article_encoder = joblib.load(os.path.join(artifacts_path, 'article_encoder.pkl'))\n",
    "\n",
    "# print(\"User encoder sample:\", list(user_encoder.classes_)[:5])\n",
    "# print(\"Article encoder sample:\", list(article_encoder.classes_)[:5])\n",
    "\n",
    "# # Load matrices\n",
    "# tfidf_matrix = joblib.load(os.path.join(artifacts_path, 'tfidf_matrix.pkl'))\n",
    "# cosine_sim_matrix = joblib.load(os.path.join(artifacts_path, 'cosine_sim_matrix.pkl'))\n",
    "# print(\"TF-IDF matrix shape:\", tfidf_matrix.shape)\n",
    "# print(\"Cosine sim matrix shape:\", cosine_sim_matrix.shape)\n",
    "\n",
    "# # Load visual embeddings\n",
    "# image_embeddings = np.load(os.path.join(artifacts_path, 'image_embeddings.npy'))\n",
    "# print(\"Image embeddings shape:\", image_embeddings.shape)\n",
    "\n",
    "# # Load visual similarity\n",
    "# visual_sim_matrix = joblib.load(os.path.join(artifacts_path, 'visual_sim_matrix.pkl'))\n",
    "# print(\"Visual sim matrix shape:\", visual_sim_matrix.shape)\n",
    "\n",
    "# # Load user purchases\n",
    "# user_purchases = joblib.load(os.path.join(artifacts_path, 'user_purchases.pkl'))\n",
    "# some_user = list(user_purchases.keys())[0]\n",
    "# print(f\"Sample user purchases ({some_user}):\", list(user_purchases[some_user])[:5])\n"
   ]
  },
  {
   "cell_type": "code",
   "execution_count": null,
   "id": "4fb4c7a8",
   "metadata": {},
   "outputs": [
    {
     "name": "stdout",
     "output_type": "stream",
     "text": [
      "Is user in encoder? True\n",
      "Is article in encoder? False\n"
     ]
    }
   ],
   "source": [
    "# test_user = '000058a12d5b43e67d225668fa1f8d618c13dc232df0cad8ffe7ad4a1091e318'\n",
    "# test_article = '372860002'\n",
    "\n",
    "# print(\"Is user in encoder?\", test_user in user_encoder.classes_)\n",
    "# print(\"Is article in encoder?\", test_article in article_encoder.classes_)\n"
   ]
  }
 ],
 "metadata": {
  "kernelspec": {
   "display_name": "venv",
   "language": "python",
   "name": "python3"
  },
  "language_info": {
   "codemirror_mode": {
    "name": "ipython",
    "version": 3
   },
   "file_extension": ".py",
   "mimetype": "text/x-python",
   "name": "python",
   "nbconvert_exporter": "python",
   "pygments_lexer": "ipython3",
   "version": "3.11.9"
  }
 },
 "nbformat": 4,
 "nbformat_minor": 5
}
