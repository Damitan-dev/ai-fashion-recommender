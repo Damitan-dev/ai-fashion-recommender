{
 "cells": [
  {
   "cell_type": "markdown",
   "metadata": {},
   "source": [
    "# Python Skills Warm-up (Day 2)\n",
    "\n",
    "**Objective:** To refresh and assess your core Python skills in the context of our e-commerce project.\n",
    "\n",
    "**Instructions:** Complete the exercises in each section. Don't worry if you get stuck—the goal is to learn and identify areas for review. Focus on writing clean, readable code."
   ]
  },
  {
   "cell_type": "markdown",
   "metadata": {},
   "source": [
    "---",
    "## Section 1: Data Structures"
   ]
  },
  {
   "cell_type": "markdown",
   "metadata": {},
   "source": [
    "### ✏️ Exercise 1.1: Manipulating Lists\n",
    "\n",
    "You are given a list of `article_ids` from a customer's recent shopping cart. Your task is to perform some basic list manipulations."
   ]
  },
  {
   "cell_type": "code",
   "execution_count": null,
   "metadata": {},
   "outputs": [],
   "source": [
    "shopping_cart = [100345, 100345, 100678, 100990, 100678, 101337]\n",
    "\n",
    "# 1. How many items are in the cart?\n",
    "num_items = 0\n",
    "# YOUR CODE HERE\n",
    "num_items = len(shopping_cart)\n",
    "print(f\"There are {num_items} items in the cart.\")\n",
    "\n",
    "# 2. How many *unique* items are in the cart?\n",
    "# Hint: You might want to convert the list to another data structure first.\n",
    "unique_items = 0\n",
    "# YOUR CODE HERE\n",
    "unique_items = len(set(shopping_cart))\n",
    "print(f\"There are {unique_items} unique items.\")"
   ]
  },
  {
   "cell_type": "markdown",
   "metadata": {},
   "source": [
    "### ✏️ Exercise 1.2: Working with Dictionaries\n",
    "\n",
    "Below is a dictionary representing a single customer. Your task is to access and modify this data."
   ]
  },
  {
   "cell_type": "code",
   "execution_count": null,
   "metadata": {},
   "outputs": [],
   "source": [
    "customer = {\n",
    "    \"customer_id\": \"CUST-0567\",\n",
    "    \"age\": 28,\n",
    "    \"fashion_segment\": \"Conscious Shopper\",\n",
    "    \"purchase_history\": [100345, 100678]\n",
    "}\n",
    "\n",
    "# 1. Access and print the customer's age.\n",
    "customer_age = 0\n",
    "# YOUR CODE HERE\n",
    "customer_age = customer[\"age\"]\n",
    "print(f\"Customer age is: {customer_age}\")\n",
    "\n",
    "# 2. A new purchase is made! Add the article_id 101337 to the 'purchase_history' list.\n",
    "# YOUR CODE HERE\n",
    "customer[\"purchase_history\"].append(101337)\n",
    "print(f\"Updated purchase history: {customer['purchase_history']}\")\n",
    "\n",
    "# 3. Add a new key-value pair to the dictionary: 'postal_code': '12345'\n",
    "# YOUR CODE HERE\n",
    "customer['postal_code'] = '12345'\n",
    "print(f\"Updated customer record: {customer}\")"
   ]
  },
  {
   "cell_type": "markdown",
   "metadata": {},
   "source": [
    "---",
    "## Section 2: Functions"
   ]
  },
  {
   "cell_type": "markdown",
   "metadata": {},
   "source": [
    "### ✏️ Exercise 2.1: Defining a Simple Function\n",
    "\n",
    "Write a function that takes a price and a discount percentage and returns the final price. The discount should be optional and default to 10% (0.10)."
   ]
  },
  {
   "cell_type": "code",
   "execution_count": null,
   "metadata": {},
   "outputs": [],
   "source": [
    "def calculate_discounted_price(price, discount=0.10):\n",
    "    \"\"\"\n",
    "    Calculates the final price after applying a discount.\n",
    "    \n",
    "    Args:\n",
    "        price (float): The original price.\n",
    "        discount (float, optional): The discount percentage (e.g., 0.2 for 20%). Defaults to 0.10.\n",
    "        \n",
    "    Returns:\n",
    "        float: The final price.\n",
    "    \"\"\"\n",
    "    # YOUR CODE HERE\n",
    "    final_price = price * (1 - discount)\n",
    "    return final_price\n",
    "\n",
    "# --- Tests ---\n",
    "price_1 = 50.0\n",
    "final_price_1 = calculate_discounted_price(price_1)\n",
    "print(f\"Original: ${price_1}, With default 10% discount: ${final_price_1:.2f}\")\n",
    "\n",
    "price_2 = 75.0\n",
    "final_price_2 = calculate_discounted_price(price_2, discount=0.25)\n",
    "print(f\"Original: ${price_2}, With 25% discount: ${final_price_2:.2f}\")"
   ]
  },
  {
   "cell_type": "markdown",
   "metadata": {},
   "source": [
    "---",
    "## Section 3: Introduction to Classes (OOP)"
   ]
  },
  {
   "cell_type": "markdown",
   "metadata": {},
   "source": [
    "### ✏️ Exercise 3.1: Creating an `Article` Class\n",
    "\n",
    "Let's model a fashion article using a Python class. A class is a blueprint for creating objects.\n",
    "\n",
    "Your task is to complete the `Article` class below. It should:\n",
    "1.  Initialize with an `article_id`, `name`, and `price`.\n",
    "2.  Have a method called `display_info()` that prints the article's details in a readable format."
   ]
  },
  {
   "cell_type": "code",
   "execution_count": null,
   "metadata": {},
   "outputs": [],
   "source": [
    "class Article:\n",
    "    def __init__(self, article_id, name, price):\n",
    "        # The __init__ method is the constructor for the class.\n",
    "        # It sets up the object's initial attributes.\n",
    "        # YOUR CODE HERE\n",
    "        self.article_id = article_id\n",
    "        self.name = name\n",
    "        self.price = price\n",
    "\n",
    "    def display_info(self):\n",
    "        # This is a method (a function that belongs to a class).\n",
    "        # It should print the details of this specific article.\n",
    "        # YOUR CODE HERE\n",
    "        print(f\"--- Article Info ---\")\n",
    "        print(f\"ID: {self.article_id}\")\n",
    "        print(f\"Name: {self.name}\")\n",
    "        print(f\"Price: ${self.price:.2f}\")\n",
    "        \n",
    "# --- Tests ---\n",
    "# Create an 'instance' of the Article class\n",
    "my_shirt = Article(article_id=100990, name=\"Striped T-Shirt\", price=19.99)\n",
    "\n",
    "# Call the display_info() method on our new object\n",
    "my_shirt.display_info()"
   ]
  },
  {
   "cell_type": "markdown",
   "metadata": {},
   "source": [
    "---",
    "## 🎉 Well Done!\n",
    "\n",
    "You've completed the warm-up. This is a great foundation for the data analysis we will begin tomorrow."
   ]
  }
 ],
 "metadata": {
  "kernelspec": {
   "display_name": "Python 3",
   "language": "python",
   "name": "python3"
  },
  "language_info": {
   "codemirror_mode": {
    "name": "ipython",
    "version": 3
   },
   "file_extension": ".py",
   "mimetype": "text/x-python",
   "name": "python",
   "nbconvert_exporter": "python",
   "pygments_lexer": "ipython3",
   "version": "3.9.7"
  }
 },
 "nbformat": 4,
 "nbformat_minor": 4
}